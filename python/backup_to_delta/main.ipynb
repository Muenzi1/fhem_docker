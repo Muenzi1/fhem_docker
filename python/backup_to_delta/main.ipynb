{
 "cells": [
  {
   "cell_type": "code",
   "execution_count": null,
   "metadata": {},
   "outputs": [],
   "source": [
    "\"\"\"\n",
    "Fetch publicly available gas prices from German gas stations\n",
    "based on MTS-K data hosted by tankerkoenig.de.\n",
    "\"\"\"\n",
    "\n",
    "import json\n",
    "from typing import Dict, Any\n",
    "import requests\n",
    "import pandas as pd\n",
    "import sqlalchemy\n",
    "from sqlalchemy.engine import Connection\n",
    "\n",
    "class CONSTANTS(object):\n",
    "    \"\"\"Just a simple constant class.\"\"\"\n",
    "\n",
    "    __slots__ = ()\n",
    "    with open(\"./parameters.jsonc\", mode=\"r\", encoding=\"utf8\") as fopen:\n",
    "        PARAMETERS = json.load(fopen)\n",
    "\n",
    "    BASE_URL = PARAMETERS[\"BASE_URL\"]\n",
    "    HOST = PARAMETERS[\"HOST\"]\n",
    "    MYSQL_PORT = PARAMETERS[\"MYSQL_PORT\"]\n",
    "    MYSQL_USER = PARAMETERS[\"MYSQL_USER\"]\n",
    "    MYSQL_PASSWORD = PARAMETERS[\"MYSQL_PASSWORD\"]\n",
    "\n",
    "\n",
    "def get_mariadb_connection(\n",
    "    host: str,\n",
    "    user: str,\n",
    "    password: str,\n",
    ") -> Connection:\n",
    "    \"\"\"Creates a connection to a MariaDB instance.\n",
    "\n",
    "    Args:\n",
    "        host (str): Docker host\n",
    "        user (str): MariaDB user\n",
    "        password (str): MariaDB password\n",
    "\n",
    "    Returns:\n",
    "        conn: SQLAlchemy connection\n",
    "    \"\"\"\n",
    "    engine = sqlalchemy.create_engine(\n",
    "        f\"mysql+pymysql://{user}:{password}@{host}/fhem?charset=utf8mb4\",\n",
    "    )\n",
    "    conn = engine.connect()\n",
    "\n",
    "    return conn\n",
    "\n",
    "const = CONSTANTS()\n",
    "\n",
    "conn = get_mariadb_connection(\n",
    "    host=const.HOST, user=const.MYSQL_USER, password=const.MYSQL_PASSWORD\n",
    ")\n",
    "\n",
    "df = pd.read_sql(\"SELECT * FROM fhem.f_t_gas_price\", index_col=\"ID\", con=conn, coerce_float=False)\n",
    "\n"
   ]
  },
  {
   "cell_type": "code",
   "execution_count": null,
   "metadata": {},
   "outputs": [],
   "source": [
    "df"
   ]
  },
  {
   "cell_type": "code",
   "execution_count": null,
   "metadata": {},
   "outputs": [],
   "source": [
    "df.to_parquet(\"./test.parquet\")"
   ]
  },
  {
   "cell_type": "code",
   "execution_count": null,
   "metadata": {},
   "outputs": [],
   "source": [
    "import os\n",
    "\n",
    "os.environ['SPARK_LOCAL_IP'] = \"127.0.1.1\"\n"
   ]
  },
  {
   "cell_type": "code",
   "execution_count": null,
   "metadata": {},
   "outputs": [],
   "source": [
    "import pyspark\n",
    "from delta import *\n",
    "\n",
    "builder = pyspark.sql.SparkSession.builder.master(\"local[*]\").appName(\"MyApp\") \\\n",
    "    .config(\"spark.sql.extensions\", \"io.delta.sql.DeltaSparkSessionExtension\") \\\n",
    "    .config(\"spark.sql.catalog.spark_catalog\", \"org.apache.spark.sql.delta.catalog.DeltaCatalog\")\n",
    "\n",
    "spark = configure_spark_with_delta_pip(builder).getOrCreate()\n",
    "\n",
    "sdf = spark.createDataFrame(df)\n",
    "\n",
    "sdf.write.format(\"delta\").save(\"./delta_gas_prices\")"
   ]
  },
  {
   "cell_type": "code",
   "execution_count": null,
   "metadata": {},
   "outputs": [],
   "source": [
    "spark.read.load(\"./delta_gas_prices/\").count()"
   ]
  },
  {
   "cell_type": "code",
   "execution_count": null,
   "metadata": {},
   "outputs": [],
   "source": []
  }
 ],
 "metadata": {
  "kernelspec": {
   "display_name": "Python 3.10.6 ('deltaio')",
   "language": "python",
   "name": "python3"
  },
  "language_info": {
   "codemirror_mode": {
    "name": "ipython",
    "version": 3
   },
   "file_extension": ".py",
   "mimetype": "text/x-python",
   "name": "python",
   "nbconvert_exporter": "python",
   "pygments_lexer": "ipython3",
   "version": "3.10.6 (main, Nov 14 2022, 16:10:14) [GCC 11.3.0]"
  },
  "orig_nbformat": 4,
  "vscode": {
   "interpreter": {
    "hash": "f62bce591cc56980c2aaa9d5a6b4ed4af77842827c7ebe8cd677b6629d9a4078"
   }
  }
 },
 "nbformat": 4,
 "nbformat_minor": 2
}
